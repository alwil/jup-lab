{
 "cells": [
  {
   "cell_type": "markdown",
   "id": "bd2b5029-9f39-49dd-8925-031e5198d23b",
   "metadata": {},
   "source": [
    "# Calculating pi using Monte Carlo methods"
   ]
  },
  {
   "cell_type": "markdown",
   "id": "189858d1-97ab-4838-bbfa-5e42bc421f6e",
   "metadata": {},
   "source": [
    "## Relevant formulas\n",
    "\n",
    "- square area: $s = (2 r)^2$\n",
    "- circle area: $c = \\pi r^2$\n",
    "- $c/s = (\\pi r^2) / (4 r^2) = \\pi / 4$\n",
    "- $\\pi = 4 * c/s$"
   ]
  },
  {
   "cell_type": "markdown",
   "id": "9a70cf2c-49f2-4cf9-806d-fb90c6e2e680",
   "metadata": {},
   "source": [
    "## Image to visualize the concept\n",
    "\n",
    "![Darts](https://raw.githubusercontent.com/coderefinery/jupyter/main/example/darts.svg)"
   ]
  },
  {
   "cell_type": "code",
   "execution_count": 1,
   "id": "4b71fb30-b9f1-432b-88c3-c33415aa48a3",
   "metadata": {},
   "outputs": [],
   "source": [
    "# importing modules that we will need\n",
    "\n",
    "import random\n",
    "import matplotlib.pyplot as plt"
   ]
  },
  {
   "cell_type": "code",
   "execution_count": 2,
   "id": "8447e2c6-ca24-4622-a036-c9fa25196e71",
   "metadata": {},
   "outputs": [],
   "source": [
    "# initializing the number of \"throws\"\n",
    "\n",
    "num_points = 1000"
   ]
  },
  {
   "cell_type": "code",
   "execution_count": 9,
   "id": "40808629-67b5-4c18-817d-81c9b6785300",
   "metadata": {},
   "outputs": [
    {
     "name": "stdout",
     "output_type": "stream",
     "text": [
      "0.11843776600538292 0.6707914123112573\n"
     ]
    },
    {
     "data": {
      "text/plain": [
       "0.014027504416345838"
      ]
     },
     "execution_count": 9,
     "metadata": {},
     "output_type": "execute_result"
    }
   ],
   "source": []
  },
  {
   "cell_type": "markdown",
   "id": "aded4679-6b8a-4ded-9163-3e6be57f11e8",
   "metadata": {},
   "source": [
    "# here we \"throw darts\" and count the number of hits\n",
    "\n",
    "points = []\n",
    "hits = 0\n",
    "for _ in range(num_points):\n",
    "    x, y = random.random(), random.random()\n",
    "    if x*x + y*y < 1.0:\n",
    "        hits += 1\n",
    "        points.append((x, y, \"red\"))\n",
    "    else:\n",
    "        points.append((x, y, \"blue\"))"
   ]
  }
 ],
 "metadata": {
  "kernelspec": {
   "display_name": "Python 3 (ipykernel)",
   "language": "python",
   "name": "python3"
  },
  "language_info": {
   "codemirror_mode": {
    "name": "ipython",
    "version": 3
   },
   "file_extension": ".py",
   "mimetype": "text/x-python",
   "name": "python",
   "nbconvert_exporter": "python",
   "pygments_lexer": "ipython3",
   "version": "3.9.7"
  }
 },
 "nbformat": 4,
 "nbformat_minor": 5
}
